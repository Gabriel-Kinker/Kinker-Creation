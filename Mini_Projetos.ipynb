{
 "cells": [
  {
   "cell_type": "code",
   "execution_count": 44,
   "metadata": {},
   "outputs": [
    {
     "name": "stderr",
     "output_type": "stream",
     "text": [
      "'matplotlib' nÆo ‚ reconhecido como um comando interno\n",
      "ou externo, um programa oper vel ou um arquivo em lotes.\n"
     ]
    }
   ],
   "source": [
    "import pandas as pd\n",
    "import numpy as np\n",
    "import matplotlib as mp\n",
    "!matplotlib inline\n",
    "from datetime import *"
   ]
  },
  {
   "cell_type": "code",
   "execution_count": 47,
   "metadata": {},
   "outputs": [
    {
     "name": "stdout",
     "output_type": "stream",
     "text": [
      "Valor-Presente: 100\n",
      "Taxa i (%): 1\n",
      "Períodos n: 12\n",
      "Seu saldo é de 112\n"
     ]
    }
   ],
   "source": [
    "###Tentativa Calculadora Juros Compostos (Python + Mat. Fin.)\n",
    "\n",
    "\n",
    "\n",
    "VP = int(input(\"Valor-Presente: \"))\n",
    "i = float(input(\"Taxa i (%): \").replace(',','.'))/100 \n",
    "n = float(input(\"Períodos n: \"))\n",
    "J = int(VP*(1+i)**n)\n",
    "print(\"Seu saldo é de \"+ str(J))"
   ]
  },
  {
   "cell_type": "code",
   "execution_count": null,
   "metadata": {},
   "outputs": [],
   "source": [
    "print(J)"
   ]
  },
  {
   "cell_type": "code",
   "execution_count": null,
   "metadata": {},
   "outputs": [],
   "source": [
    "lista = [2,4,6,J]"
   ]
  },
  {
   "cell_type": "code",
   "execution_count": null,
   "metadata": {},
   "outputs": [],
   "source": [
    "print(lista)"
   ]
  },
  {
   "cell_type": "code",
   "execution_count": null,
   "metadata": {},
   "outputs": [],
   "source": [
    "##########################################################################"
   ]
  },
  {
   "cell_type": "code",
   "execution_count": 48,
   "metadata": {},
   "outputs": [
    {
     "name": "stdout",
     "output_type": "stream",
     "text": [
      "0\n",
      "1\n",
      "2\n",
      "3\n",
      "4\n",
      "5\n",
      "6\n",
      "7\n",
      "8\n",
      "9\n",
      "10\n",
      "11\n",
      "12\n",
      "13\n",
      "14\n",
      "15\n",
      "16\n",
      "17\n",
      "18\n",
      "19\n",
      "20\n",
      "21\n",
      "22\n",
      "23\n",
      "24\n"
     ]
    }
   ],
   "source": [
    "###Contador de linhas\n",
    "\n",
    "counter = 0\n",
    "while counter < 100:\n",
    "    if counter == 25:\n",
    "        break\n",
    "    else:\n",
    "        pass\n",
    "    print(counter)\n",
    "    counter = counter + 1"
   ]
  },
  {
   "cell_type": "code",
   "execution_count": null,
   "metadata": {},
   "outputs": [],
   "source": []
  },
  {
   "cell_type": "code",
   "execution_count": null,
   "metadata": {},
   "outputs": [],
   "source": [
    "###########################################################################"
   ]
  },
  {
   "cell_type": "code",
   "execution_count": null,
   "metadata": {},
   "outputs": [],
   "source": [
    "###if e for\n",
    "def func(x):\n",
    "    if x % 2 ==0:\n",
    "        print(\"par\")\n",
    "    else:\n",
    "        print(\"ímpar\")\n",
    "    return"
   ]
  },
  {
   "cell_type": "code",
   "execution_count": null,
   "metadata": {},
   "outputs": [],
   "source": [
    "func(10)"
   ]
  },
  {
   "cell_type": "code",
   "execution_count": null,
   "metadata": {},
   "outputs": [],
   "source": [
    "func(7)"
   ]
  },
  {
   "cell_type": "code",
   "execution_count": null,
   "metadata": {},
   "outputs": [],
   "source": [
    "##########################################################################"
   ]
  },
  {
   "cell_type": "code",
   "execution_count": null,
   "metadata": {},
   "outputs": [],
   "source": [
    "###Jogo de conversa\n",
    "z = int(input('Digite um número: '))\n",
    "\n",
    "if z >= 0:\n",
    "    if z > 0 and z < 2:\n",
    "        print('Hmmmm, pq um valor tão baixo??')\n",
    "    else:\n",
    "        if z > 1 and z < 3:\n",
    "            print('aaaah naaao!')\n",
    "        elif z > 3:\n",
    "            print('errou. mais baixo')\n",
    "        elif z == 3:\n",
    "                print('finalmente advinhouu!')\n",
    "elif z < 0:\n",
    "    print('nÃO pode ser negativo meu, tá frio')\n",
    "\n",
    "    "
   ]
  },
  {
   "cell_type": "code",
   "execution_count": null,
   "metadata": {},
   "outputs": [],
   "source": [
    "###Outro\n",
    "##### ELIF (PODE SER USADA N VEZES); ELSE (USADA UMA SÓ VEZ CASO IF SEJA FALSO)\n",
    "idade = int(input('Qual a sua idade? '))\n",
    "\n",
    "if idade == 0:\n",
    "    print('kkkkk, é bebê!')\n",
    "elif 0 < idade < 18:\n",
    "    print('Você é de menor!')\n",
    "elif 18 < idade < 40:\n",
    "    print('A Terceira idade está chegando!')\n",
    "elif idade > 40:\n",
    "    print('Você já é senhor(a)!')\n",
    "else:\n",
    "    print('Esta idade não existe...')\n",
    "    \n",
    "print('Obrigado por participar da brincadeira!')"
   ]
  },
  {
   "cell_type": "code",
   "execution_count": null,
   "metadata": {},
   "outputs": [],
   "source": [
    "##### WHILE\n",
    "num = 0\n",
    "\n",
    "while num < 14:\n",
    "    num = num + 1\n",
    "    print('número:' , num)\n",
    "    if num == 13:\n",
    "        break"
   ]
  },
  {
   "cell_type": "code",
   "execution_count": null,
   "metadata": {},
   "outputs": [],
   "source": [
    "##### FOR ANINHADO\n",
    "for x in range(1,4):\n",
    "    for y in range(1,5):\n",
    "        print('x é ', x, ', y é ', y)"
   ]
  },
  {
   "cell_type": "code",
   "execution_count": null,
   "metadata": {},
   "outputs": [],
   "source": [
    "for i  in '12':\n",
    "    for j in '21':\n",
    "        print(i,j)"
   ]
  },
  {
   "cell_type": "code",
   "execution_count": null,
   "metadata": {},
   "outputs": [],
   "source": []
  },
  {
   "cell_type": "code",
   "execution_count": null,
   "metadata": {},
   "outputs": [],
   "source": []
  },
  {
   "cell_type": "code",
   "execution_count": 12,
   "metadata": {},
   "outputs": [
    {
     "name": "stdout",
     "output_type": "stream",
     "text": [
      "Valor-Presente: 1500\n",
      "Taxa i (%): 52\n",
      "Períodos n: 2\n",
      "Seu saldo é de 3465\n",
      "Valor-Presente: 2500\n",
      "Taxa i (%): 65\n",
      "Períodos n: 5\n",
      "Seu saldo é de 30574\n",
      "Resultado atingido!\n"
     ]
    }
   ],
   "source": [
    "###Tentativa Calculadora Juros Compostos (Python + Mat. Fin.)\n",
    "\n",
    "J = 0\n",
    "while J <= 10000:\n",
    "    VP = int(input(\"Valor-Presente: \"))\n",
    "    i = float(input(\"Taxa i (%): \").replace(',','.'))/100 \n",
    "    n = float(input(\"Períodos n: \"))\n",
    "    J = int(VP*(1+i)**n)\n",
    "    print(\"Seu saldo é de \"+ str(J))\n",
    "    if J > 10000:\n",
    "        print(\"Resultado atingido!\")\n",
    "        break\n",
    "        \n",
    "        \n",
    "\n",
    "        "
   ]
  },
  {
   "cell_type": "code",
   "execution_count": null,
   "metadata": {},
   "outputs": [],
   "source": []
  },
  {
   "cell_type": "code",
   "execution_count": null,
   "metadata": {},
   "outputs": [],
   "source": []
  },
  {
   "cell_type": "code",
   "execution_count": null,
   "metadata": {},
   "outputs": [],
   "source": []
  },
  {
   "cell_type": "code",
   "execution_count": 23,
   "metadata": {},
   "outputs": [
    {
     "name": "stdout",
     "output_type": "stream",
     "text": [
      "Selecione um número: 1\n",
      "O número escolhido foi i\n",
      "[[1]]\n",
      "[[1], [2]]\n",
      "[[1], [2], [3]]\n",
      "[[1], [2], [3], [4]]\n",
      "[[1], [2], [3], [4], [5]]\n",
      "[[1], [2], [3], [4], [5], [6]]\n",
      "[[1], [2], [3], [4], [5], [6], [7]]\n",
      "[[1], [2], [3], [4], [5], [6], [7], [8]]\n",
      "[[1], [2], [3], [4], [5], [6], [7], [8], [9]]\n"
     ]
    }
   ],
   "source": [
    "i = int(input('Selecione um número: '))\n",
    "print(\"O número escolhido foi \" + \"i\")\n",
    "lst = []\n",
    "\n",
    "while i < 10:\n",
    "    lst.append([i])\n",
    "    print(lst)\n",
    "    i = i + 1\n",
    "    if i > 10:\n",
    "        break"
   ]
  },
  {
   "cell_type": "code",
   "execution_count": 24,
   "metadata": {},
   "outputs": [
    {
     "name": "stdout",
     "output_type": "stream",
     "text": [
      "Selecione um número: 1\n",
      "O número escolhido foi i\n",
      "[[1], [2], [3], [4], [5], [6], [7], [8], [9]]\n"
     ]
    }
   ],
   "source": [
    "i = int(input('Selecione um número: '))\n",
    "print(\"O número escolhido foi \" + \"i\")\n",
    "lst = []\n",
    "\n",
    "while i < 10:\n",
    "    lst.append([i])\n",
    "    i = i + 1\n",
    "    if i > 10:\n",
    "        break\n",
    "        \n",
    "print(lst)"
   ]
  },
  {
   "cell_type": "code",
   "execution_count": 51,
   "metadata": {},
   "outputs": [
    {
     "name": "stdout",
     "output_type": "stream",
     "text": [
      "1-Soma 2-Subtração 3-Multiplicação 4-Divisão 5-Resto 6-Raiz\n",
      "Selecione a operação desejada: 6\n",
      "Operação em construção.\n"
     ]
    }
   ],
   "source": [
    "####Calculadora\n",
    "dc = {1: 'Soma', 2: 'Subtração', 3: 'Multiplicação', 4: 'Divisão', 5: 'Resto', 6: 'Raiz' }\n",
    "print('1-Soma',\n",
    "      '2-Subtração',\n",
    "      '3-Multiplicação',\n",
    "      '4-Divisão',\n",
    "      '5-Resto',\n",
    "      '6-Raiz')\n",
    "dc1 = {6.1: 'Raiz Quadrada', 6.2: 'Raiz Cúbica'}\n",
    "\n",
    "s = int(input('Selecione a operação desejada: '))\n",
    "#s1 = int(input('Raiz Quadrada ou Raiz Cúbica?'))\n",
    "if s == 1:\n",
    "    x = int(input('Valor de x: '))\n",
    "    y = int(input('Valor de y: '))\n",
    "    z = x + y\n",
    "    print(\"A soma é igual à \" + str(z))\n",
    "    \n",
    "elif s == 2:\n",
    "    x = int(input('Valor de x: '))\n",
    "    y = int(input('Valor de y: '))\n",
    "    z = x - y\n",
    "    print(\"A subtração é igual à \" + str(z))\n",
    "    \n",
    "elif s == 3:\n",
    "    x = int(input('Valor de x: '))\n",
    "    y = int(input('Valor de y: '))\n",
    "    z = x * y\n",
    "    print(\"A multiplicação é igual à \" + str(z))\n",
    "\n",
    "elif s == 4:\n",
    "    x = int(input('Valor de x: '))\n",
    "    y = int(input('Valor de y: '))\n",
    "    z = x / y\n",
    "    print(\"A divisão é igual à \" + str(z))\n",
    "    \n",
    "elif s == 5:\n",
    "    x = int(input('Valor de x: '))\n",
    "    y = int(input('Valor de y: '))\n",
    "    z = x % y\n",
    "    print(\"O resto da divisão é igual à \" + str(z))\n",
    "    \n",
    "elif s == 6:\n",
    "    print('Operação em construção.')\n",
    "#    print('6.1- Raiz Quadrada',\n",
    "#          '6.2- Raiz Cúbica')\n",
    "#    if s1 == 6.1:\n",
    "#            print(\"Raiz Quadrada escolhida.\")\n",
    "#            x = int(input('Valor de x: '))\n",
    "#            z = x**0,50\n",
    "#            print('A raiz quadrada de x é: ' + str(float(z))\n",
    "#    else:\n",
    "#            s1 == 6.2:\n",
    "#            print(\"Raiz Cúbica escolhida.\")\n",
    "#           x = int(input('Valor de x: '))\n",
    "#            z = x**0,33   \n",
    "#           print('A raiz cúbica de x é: ' + str(float(z))\n",
    "else:\n",
    "    \n",
    "    print('Operação Indisponível.')\n"
   ]
  },
  {
   "cell_type": "code",
   "execution_count": null,
   "metadata": {},
   "outputs": [],
   "source": []
  },
  {
   "cell_type": "code",
   "execution_count": 43,
   "metadata": {},
   "outputs": [
    {
     "name": "stdout",
     "output_type": "stream",
     "text": [
      "Qual é seu nome? Reginaldo\n",
      "Qual a sua idade? 2\n",
      "Acesso Negado!\n",
      "Qual a sua idade? 19\n",
      "Acesso Permitido.\n",
      "Possui matrícula? Responda com Sim ou Não.Sim\n",
      "Acesso permitido.\n",
      "Digite a sua matrícula: 1283712837\n",
      "<class 'int'>\n",
      "O que gostaria de consultar?  3- notas  4- horas3\n",
      "Opção selecionada: 3\n",
      "Sua nota foi 10!\n"
     ]
    }
   ],
   "source": [
    "###IF aninhado\n",
    "## Conversa\n",
    "#dicio = {1: 'Sim', 2: 'Não', 3: 'notas', 4: 'horas'}\n",
    "\n",
    "nome = input(str('Qual é seu nome? '))\n",
    "\n",
    "idade = input('Qual a sua idade? ')\n",
    "idade = int(idade)\n",
    "\n",
    "while idade < 18:\n",
    "    print('Acesso Negado!')\n",
    "    idade = input('Qual a sua idade? ')\n",
    "    idade = int(idade)\n",
    "else:\n",
    "    print('Acesso Permitido.')\n",
    "\n",
    "matrícula = input('Possui matrícula? Responda com Sim ou Não.')\n",
    "if matrícula == 'Sim':\n",
    "    print('Acesso permitido.')\n",
    "elif matrícula == 'Não':\n",
    "    print('Acesso não permitido.')\n",
    "else:\n",
    "    print('Opção Indispovível')\n",
    "    while matrícula != 'Sim' or matrícula != 'Não':\n",
    "        matrícula = input('Possui matrícula? Responda com Sim ou Não: ')\n",
    "        \n",
    "#if matricula != 1:\n",
    "#    print('Acesso não permitido. É necessário ter matrícula.')\n",
    "#else:\n",
    "#   print('Acesso permitido.')\n",
    "    \n",
    "matricula2 = input('Digite a sua matrícula: ')\n",
    "matricula2 = int(matricula2)\n",
    "print(type(matricula2))\n",
    "\n",
    "#print('O que gostaria de consultar?  3- notas  4- horas')\n",
    "\n",
    "if isinstance(matricula2, int) == True:\n",
    "    x = input('O que gostaria de consultar?  3- notas  4- horas')\n",
    "    x = int(x)\n",
    "    \n",
    "    print('Opção selecionada: '+ str(x))\n",
    "    if x == 3:\n",
    "        print('Sua nota foi 10!')\n",
    "    elif x == 4:\n",
    "        #today = datetime.now(\"%H:%M:%S\")\n",
    "        #print(today)\n",
    "        print('Opção em construção! Desculpe.')\n",
    "    else:\n",
    "        print('Indisponível.')\n",
    "\n"
   ]
  },
  {
   "cell_type": "code",
   "execution_count": 36,
   "metadata": {},
   "outputs": [
    {
     "ename": "TypeError",
     "evalue": "tzinfo argument must be None or of a tzinfo subclass, not type 'str'",
     "output_type": "error",
     "traceback": [
      "\u001b[1;31m---------------------------------------------------------------------------\u001b[0m",
      "\u001b[1;31mTypeError\u001b[0m                                 Traceback (most recent call last)",
      "\u001b[1;32m<ipython-input-36-27aff0bccea8>\u001b[0m in \u001b[0;36m<module>\u001b[1;34m\u001b[0m\n\u001b[1;32m----> 1\u001b[1;33m \u001b[0mtoday\u001b[0m \u001b[1;33m=\u001b[0m \u001b[0mdatetime\u001b[0m\u001b[1;33m.\u001b[0m\u001b[0mnow\u001b[0m\u001b[1;33m(\u001b[0m\u001b[1;34m\"%H:%M:%S\"\u001b[0m\u001b[1;33m)\u001b[0m\u001b[1;33m\u001b[0m\u001b[1;33m\u001b[0m\u001b[0m\n\u001b[0m\u001b[0;32m      2\u001b[0m \u001b[0mprint\u001b[0m\u001b[1;33m(\u001b[0m\u001b[0mtoday\u001b[0m\u001b[1;33m)\u001b[0m\u001b[1;33m\u001b[0m\u001b[1;33m\u001b[0m\u001b[0m\n",
      "\u001b[1;31mTypeError\u001b[0m: tzinfo argument must be None or of a tzinfo subclass, not type 'str'"
     ]
    }
   ],
   "source": [
    "today = datetime.now(\"%H:%M:%S\")\n",
    "print(today)"
   ]
  },
  {
   "cell_type": "code",
   "execution_count": 30,
   "metadata": {},
   "outputs": [
    {
     "ename": "TypeError",
     "evalue": "tzinfo argument must be None or of a tzinfo subclass, not type 'str'",
     "output_type": "error",
     "traceback": [
      "\u001b[1;31m---------------------------------------------------------------------------\u001b[0m",
      "\u001b[1;31mTypeError\u001b[0m                                 Traceback (most recent call last)",
      "\u001b[1;32m<ipython-input-30-47c9575460c0>\u001b[0m in \u001b[0;36m<module>\u001b[1;34m\u001b[0m\n\u001b[1;32m----> 1\u001b[1;33m \u001b[0mnow\u001b[0m \u001b[1;33m=\u001b[0m \u001b[0mstr\u001b[0m\u001b[1;33m(\u001b[0m\u001b[0mdatetime\u001b[0m\u001b[1;33m.\u001b[0m\u001b[0mnow\u001b[0m\u001b[1;33m(\u001b[0m\u001b[1;34m\"%H:%M:%S\"\u001b[0m\u001b[1;33m)\u001b[0m\u001b[1;33m)\u001b[0m\u001b[1;33m\u001b[0m\u001b[1;33m\u001b[0m\u001b[0m\n\u001b[0m\u001b[0;32m      2\u001b[0m \u001b[0mprint\u001b[0m\u001b[1;33m(\u001b[0m\u001b[0mnow\u001b[0m\u001b[1;33m)\u001b[0m\u001b[1;33m\u001b[0m\u001b[1;33m\u001b[0m\u001b[0m\n",
      "\u001b[1;31mTypeError\u001b[0m: tzinfo argument must be None or of a tzinfo subclass, not type 'str'"
     ]
    }
   ],
   "source": [
    "now = str(datetime.now(\"%H:%M:%S\"))\n",
    "print(now)"
   ]
  },
  {
   "cell_type": "code",
   "execution_count": null,
   "metadata": {},
   "outputs": [],
   "source": []
  }
 ],
 "metadata": {
  "kernelspec": {
   "display_name": "Python 3",
   "language": "python",
   "name": "python3"
  },
  "language_info": {
   "codemirror_mode": {
    "name": "ipython",
    "version": 3
   },
   "file_extension": ".py",
   "mimetype": "text/x-python",
   "name": "python",
   "nbconvert_exporter": "python",
   "pygments_lexer": "ipython3",
   "version": "3.8.5"
  }
 },
 "nbformat": 4,
 "nbformat_minor": 4
}
